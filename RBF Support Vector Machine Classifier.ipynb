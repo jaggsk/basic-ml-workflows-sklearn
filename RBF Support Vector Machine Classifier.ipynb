{
 "cells": [
  {
   "cell_type": "markdown",
   "metadata": {},
   "source": [
    "## Machine Learning - Support Vector Machine Example\n",
    "### Kevin Jaggs Jan 2020\n",
    "\n",
    "### Objective:\n",
    "Train a Support Vector Machine (SVM) algorithm to an input training database. Starting with a default parameter SVC model, the aim is to tune hyperparameters and optimise classifier performance.\n",
    "\n",
    "Outcomes at each stage will be scored using conventional binary classification scoring metrics.\n",
    "\n",
    "### Method:\n",
    "\n",
    "* Step 1 -  [Import the required python modules](#section_id_import_modules). Import of pandas dataframe, numpy, matplotlib and sklearn modules\n",
    "\n",
    "\n",
    "* Step 2 -  [User selected parameters](#section_id_parameter). Options for user to select scoring criteria, cross validation number etc.\n",
    "\n",
    "\n",
    "* Step 3 -  [Import Database_csv_to_pandas](#section_id_import_database). Import of database csv file to pandas dataframe. Note: the csv file is an independently formatted file, composed of random scoring criteria and the output column in last position [-1].\n",
    "\n",
    "\n",
    "* Step 4 -  [Split dataset into test and train portions](#section_id_test_train_split). For conventional machine learning workflows, the input and output datasets are divided into training and testing sub-volumes. Algorithms are trained on the (not suprisingly) 'train' dataset and model outcomes are compared using the 'test' dataset, to prevent over-fitting.\n",
    "\n",
    "\n",
    "* Step 5 -  [Feature scale input data](#section_id_feature_scale). Rescale the features/input columns such that they have the properties of a standard normal distribution with a mean of zero and a standard deviation of one.\n",
    "\n",
    "\n",
    "* Step 6 -  [Fit default svm](#section_id_svm_raw). Fit a simple Linear Kernel SVM model using X_train_scaled. This output will provide a benchmark for any improvements noted in hyperparameter selection or feature selection.\n",
    "\n",
    "\n",
    "* Step 7 - [Hyperparameter tuning with GridsearchCV](#section_id_gridsearchcv) Identify the best SVM model fit parameters using GridsearchCV\n",
    "\n",
    "\n",
    "* Step 8 - [ROC curve comparison](#section_id_roc_curve) Comparison of the ROC curves for raw. GridsearchCV and RFE result models.\n",
    "\n",
    "\n",
    "* Step 9 - [Precision Recall curve comparison](#section_id_pr_curve) Compare the precision recall curves for the raw, gridsearchcv and rfe models. Labels show the AUPR score.\n",
    "\n",
    "\n",
    "* Step 10 - [Final model comparisons](#section_id_model_comparisons) Compare the outputs from all stages of the model evaluation: raw, gridsearchcv and rfecv.\n",
    "\n",
    "\n",
    "\n",
    "\n",
    "### Dataset\n",
    "A synthetic dataset with a binary outcome [0,1] in the last position. Most columns are discrete values [0,1,2,3,4,5] but some are continuous floats.\n",
    "Note: the supplied input file is a conditioned, synthetic binary classification dataset i.e binary outcome of 0 or 1. You can simply add in a user selected database with the following preconditions: 1) Nan or empty cell values will be replaced with zero, 2) binary outcome only, 3) the results column is the last one [-1]. \n",
    "\n",
    "### Programming\n",
    "This evaluation is performed using Python code and SKlearn provides the SVM classifier modules. \n",
    "\n",
    "At the time of script creation the following verions were used.\n",
    "Python: 3.7.6\n",
    "Numpy: 1.18.1\n",
    "Pandas: 1.0.1\n",
    "SKlearn: 0.22.1\n",
    "\n",
    "### Outputs\n",
    "* Fitted SVM models for default parameters (raw) and GridsearchCV hyperparameter tuning.\n",
    "* Confusion matrix for Raw & GridsearchCV models.\n",
    "* Accuracy, Precision, F1 or AUC scoring metric comparison for Raw & GridsearchCV.\n",
    "* ROC_AUC plot for Raw & GridsearchCV models.\n",
    "* AU_PR plot for Raw & GridsearchCV models."
   ]
  },
  {
   "cell_type": "markdown",
   "metadata": {},
   "source": [
    "<a id='section_id_import_modules'></a>"
   ]
  },
  {
   "cell_type": "markdown",
   "metadata": {},
   "source": [
    "### 1. Import required Python Modules"
   ]
  },
  {
   "cell_type": "code",
   "execution_count": 1,
   "metadata": {},
   "outputs": [
    {
     "name": "stdout",
     "output_type": "stream",
     "text": [
      "Automatically created module for IPython interactive environment\n",
      "Python version:  3 . 7 . 6\n",
      "Numpy Version:  1.18.1\n",
      "Pandas Version:  1.0.1\n",
      "Scikitlearn Version:  0.22.1\n"
     ]
    }
   ],
   "source": [
    "print(__doc__)\n",
    "\n",
    "#pandas dataframe - similar to a python version of excel. Most efficient way to perform data operations\n",
    "import pandas as pd\n",
    "\n",
    "#numpy for most mathematical operations\n",
    "import numpy as np\n",
    "\n",
    "#matplotlib for plotting functions\n",
    "#import matplotlib.pyplot as plt\n",
    "#from matplotlib.colors import ListedColormap\n",
    "#seaborn for plotting heatmap\n",
    "#import seaborn as sns\n",
    "\n",
    "#sklearn for machine learning modules and scoring algorithms\n",
    "from sklearn.model_selection import train_test_split\n",
    "from sklearn.preprocessing import StandardScaler\n",
    "\n",
    "from sklearn.svm import SVC\n",
    "from sklearn.model_selection import GridSearchCV \n",
    "from sklearn.ensemble import RandomForestClassifier\n",
    "from sklearn.metrics import roc_curve,roc_auc_score, accuracy_score, recall_score, precision_score, f1_score, plot_confusion_matrix,classification_report\n",
    "\n",
    "#recursice festure elimination\n",
    "from sklearn.feature_selection import RFE, RFECV\n",
    "from sklearn.model_selection import StratifiedKFold\n",
    "\n",
    "#chi2 calculation\n",
    "from sklearn.feature_selection import SelectKBest\n",
    "from sklearn.feature_selection import chi2\n",
    "import scipy\n",
    "\n",
    "#plotting\n",
    "import matplotlib.pyplot as plt\n",
    "\n",
    "import sys\n",
    "import sklearn\n",
    "print(\"Python version: \", sys.version_info[0],\".\",sys.version_info[1],\".\",sys.version_info[2])\n",
    "print(\"Numpy Version: \" ,np.__version__)\n",
    "print(\"Pandas Version: \" ,pd.__version__)\n",
    "print(\"Scikitlearn Version: \" ,sklearn.__version__)"
   ]
  },
  {
   "cell_type": "markdown",
   "metadata": {},
   "source": [
    "<a id='section_id_parameter'></a>"
   ]
  },
  {
   "cell_type": "markdown",
   "metadata": {},
   "source": [
    "### 2. User selected parameters\n",
    "Select scoring method, options of 'accuracy', 'precision', 'f1', 'roc_auc'\n",
    "Crossvalidation fold i.e how many subsets the training data is split into for cross validation purposes, recommend value above 3 as this below this point overfits the data and will create a prediction error in the final assessment.\n"
   ]
  },
  {
   "cell_type": "code",
   "execution_count": 2,
   "metadata": {},
   "outputs": [],
   "source": [
    "'''\n",
    "Accuracy - ratio of correctly predicted observation to the total observations. \n",
    "Accuracy works best if false positives and false negatives have similar cost. \n",
    "Accuracy = TP+TN/TP+FP+FN+TN\n",
    "\n",
    "Precision - Precision is the ratio of correctly predicted positive observations to the total predicted positive observations.\n",
    "High precision relates to the low false positive rate.\n",
    "Precision = TP/TP+FP\n",
    "\n",
    "Recall (Sensitivity) - Recall is the ratio of correctly predicted positive observations to the all observations in actual class\n",
    "Recall = TP/TP+FN\n",
    "\n",
    "F1 score - F1 Score is the weighted average of Precision and Recall. Takes both false pos and false neg into account. \n",
    "Use F1 if you have an uneven class distribution. \n",
    "If the cost of false positives and false negatives are very different - look at both Precision and Recall.\n",
    "F1 Score = 2*(Recall * Precision) / (Recall + Precision)\n",
    "\n",
    "roc_auc - the area under the receiver operating characteristic, plots the False Positive rate vs True Positive Rate for different thrshold cut offs.\n",
    "The best models should plot towards the upper left quadrant of the plot, therefore calculating the area under the curve is a good measure of model performance.\n",
    "'''\n",
    "\n",
    "#score_cat = 'roc_auc'\n",
    "score_cat = 'accuracy'\n",
    "#score_cat = 'precision'\n",
    "#score_cat = 'f1_score'\n",
    "\n",
    "#plot labels are updated based upon \n",
    "if score_cat == 'roc_auc':\n",
    "    plot_label = 'AUC'\n",
    "if score_cat == 'accuracy':\n",
    "    plot_label = 'Accuracy'\n",
    "if score_cat == 'precision':\n",
    "    plot_label = 'Precision' \n",
    "if score_cat == 'recall':\n",
    "    plot_label = 'Recall'    \n",
    "if score_cat == 'f1_score':\n",
    "    plot_label = 'f1 score'  \n",
    "    \n",
    "#number of folds (equal data subsets) employed in cross validation - recommended to use above 4 for this dataset    \n",
    "cross_validation_fold = 10    \n",
    "\n",
    "#confidnce interval for chi2 calculation\n",
    "conf_int = 0.95\n",
    "\n",
    "#see random number generators - for repeatability\n",
    "random_seed = 57"
   ]
  },
  {
   "cell_type": "markdown",
   "metadata": {},
   "source": [
    "<a id='section_id_import_database'></a>"
   ]
  },
  {
   "cell_type": "markdown",
   "metadata": {},
   "source": [
    "### 3. Import database csv file to pandas\n",
    "The csv file is imported into a pandas dataframe, allowing ease of computation in later modules. All columns are considered numeric. The column header is the data category and the index is the row ID. There should be no Nan or empty cell values amd the output column is assumed to be in last column position."
   ]
  },
  {
   "cell_type": "code",
   "execution_count": 3,
   "metadata": {},
   "outputs": [
    {
     "name": "stdout",
     "output_type": "stream",
     "text": [
      "Dataframe size on import\n",
      "Number of prospects : 352\n",
      "Number of data categories : 43\n",
      "\n",
      "Proportion (%) of Success:Fail outcomes\n",
      "1 = Success\n",
      "0 = Fail\n",
      "1    53.125\n",
      "0    46.875\n",
      "Name: Output Class, dtype: float64\n"
     ]
    }
   ],
   "source": [
    "def readcsvfile():\n",
    "    '''\n",
    "    (csv)->(pandas dataframe)\n",
    "    routine to read import csv file to pandas\n",
    "    comma separation, column headers = first row of text\n",
    "    All column data is considered numeric\n",
    "    Index = row \n",
    "    -999.25 values are converted to numpy NaN\n",
    "    PRECONDITION: Import csv file is the correct format. All lines without a 1/0 output removed.\n",
    "    KJAGGS June 2020\n",
    "    '''\n",
    "    \n",
    "    #read csv file to pandas dataframe\n",
    "    #df = pd.read_csv('classification_dataset.csv', encoding = 'utf-8',header=0,sep=',', index_col=0)\n",
    "    df = pd.read_csv('classification_dataset.csv', encoding = 'utf-8',header=0,sep=',', index_col=0)\n",
    "\n",
    "    #df = df.set_index('Row ID')\n",
    "    df = df.apply(pd.to_numeric, errors='ignore')\n",
    "    df = df.replace(-999.25,np.NaN)\n",
    "    df = df.replace(np.NaN,0)\n",
    "    #print(df.isnull().any())\n",
    "    return df\n",
    "\n",
    "df = readcsvfile()\n",
    "\n",
    "###optional qc features - remove hash/# to view \n",
    "#print(df.head)\n",
    "#print(df.columns.tolist)\n",
    "\n",
    "\n",
    "print(\"Dataframe size on import\")\n",
    "print(\"Number of prospects :\", df.shape[0])\n",
    "print(\"Number of data categories :\", df.shape[1])\n",
    "\n",
    "print(\"\\nProportion (%) of Success:Fail outcomes\")\n",
    "print(\"1 = Success\")\n",
    "print(\"0 = Fail\")\n",
    "print(df.iloc[:, -1].value_counts(normalize=True) * 100)\n",
    "\n"
   ]
  },
  {
   "cell_type": "markdown",
   "metadata": {},
   "source": [
    "<a id='section_id_test_train_split'></a>"
   ]
  },
  {
   "cell_type": "markdown",
   "metadata": {},
   "source": [
    "### 4. Split into test and train datasets\n",
    "Data is divided into test and training sub-volumes for the purpose of fitting models and preventing over-fitting/bias issues. The current defaults in the module below are to split 80:20 train:test. No random number seeding, no shuffling of input data and no stratifying (equal proportions of success/fail  outcomes in each sub-volume). These faetures are adjusted at the bottom of the next cell as the input to function; user can change accordingly."
   ]
  },
  {
   "cell_type": "code",
   "execution_count": 4,
   "metadata": {
    "scrolled": true
   },
   "outputs": [
    {
     "name": "stdout",
     "output_type": "stream",
     "text": [
      "(352, 43)\n",
      "Train and test dataset sizes\n",
      "Training dataset size : (264, 40)\n",
      "Test dataset size : (88, 40)\n"
     ]
    }
   ],
   "source": [
    "def training_split(Xdata, Ydata, test_size=0.2,stratify=None,random_state=None,shuffle=False):\n",
    "    '''\n",
    "    (DataframeXColumns)(DataframeYColumn)=>(array)(array)(array)(array)\n",
    "    For the purposes of splitting x and y data into test and training sets\n",
    "    train_test_split is currently set to default settings\n",
    "    PRECONDITION: Input datasets are formatted correctly\n",
    "    KJAGGS June2020\n",
    "    '''\n",
    "\n",
    "    #split the data - default settings for now\n",
    "    X_train, X_test, y_train, y_test = train_test_split(Xdata, Ydata, test_size=test_size,stratify=stratify, random_state = random_state, shuffle = shuffle)\n",
    "\n",
    "    #resize the output data sets if a 1 column vector, now compatible  with regression modules\n",
    "    if len(X_train.shape) <2:  \n",
    "       X_train = X_train.ravel()\n",
    "    if len(y_train.shape) <2:  \n",
    "       y_train = y_train.ravel()\n",
    "    if len(X_test.shape) <2:  \n",
    "       X_test = X_test.ravel()\n",
    "    if len(y_train.shape) <2:  \n",
    "       y_test = y_test.ravel()\n",
    "    \n",
    "    return X_train, X_test, y_train, y_test\n",
    "\n",
    "#print(df.columns.tolist())\n",
    "#output dataset is success/fail only\n",
    "print(df.shape)\n",
    "\n",
    "#remove result column from input dataset\n",
    "y = df[df.columns[-1]]\n",
    "\n",
    "#X = df.drop(df.columns[[-1]], axis=1)\n",
    "#X = df.drop(df.columns[[1,-1]], axis=1)\n",
    "X = df.drop(df.columns[[0,1,-1]], axis=1)\n",
    "\n",
    "\n",
    "\n",
    "#split the datasets\n",
    "#Shuffle = randomly shuffle the data before, If shuffle=False then stratify must be None.\n",
    "#random state = seeding of random numbers for reproducibility across various modules\n",
    "#stratify = ensure proportion of outcomes are the same across both datasets i.e % of successes in train = % of successes in test\n",
    "X_train, X_test, y_train, y_test = training_split(X,y,shuffle=True,random_state=random_seed,stratify=y,test_size=0.25)\n",
    "\n",
    "print(\"Train and test dataset sizes\")\n",
    "print(\"Training dataset size :\", X_train.shape)\n",
    "print(\"Test dataset size :\", X_test.shape)"
   ]
  },
  {
   "cell_type": "markdown",
   "metadata": {},
   "source": [
    "<a id='section_id_feature_scale'></a>"
   ]
  },
  {
   "cell_type": "markdown",
   "metadata": {},
   "source": [
    "### 5. Feature scale the input data\n",
    "Input independent variables are scaled so that the the attribute mean is zero with a unit standard deviation. Gradient descent algorithms (neural networks, for example) run more efficiently if input tfeatures are scaled accordingly. decision tree methods are invariant to scaling."
   ]
  },
  {
   "cell_type": "code",
   "execution_count": 5,
   "metadata": {},
   "outputs": [],
   "source": [
    "#set up scaler - StandardScaler from SciKit learn\n",
    "#Standardize features by removing the mean and scaling to unit variance\n",
    "#z = (x - u) / s\n",
    "scaler = StandardScaler()\n",
    "\n",
    "#scaler is calculated on the train data ONLY. Would be considered data leakage - test data must not influence the model output.\n",
    "scaler.fit(X_train)\n",
    "\n",
    "#apply the scaler to the train and test datasets\n",
    "X_train_scaled = scaler.transform(X_train)\n",
    "X_test_scaled = scaler.transform(X_test)\n"
   ]
  },
  {
   "cell_type": "markdown",
   "metadata": {},
   "source": [
    "<a id='section_id_svm_raw'></a>"
   ]
  },
  {
   "cell_type": "markdown",
   "metadata": {},
   "source": [
    "### 6. Fit default SVM model\n",
    "A default RBF Kernel model is fitted to the training data to create a benchmark upon which future outputs of hyperparameter tuning or feature selction methods will be judged on. \n"
   ]
  },
  {
   "cell_type": "code",
   "execution_count": 6,
   "metadata": {},
   "outputs": [
    {
     "name": "stdout",
     "output_type": "stream",
     "text": [
      "              precision    recall  f1-score   support\n",
      "\n",
      "           0       0.71      0.54      0.61        41\n",
      "           1       0.67      0.81      0.73        47\n",
      "\n",
      "    accuracy                           0.68        88\n",
      "   macro avg       0.69      0.67      0.67        88\n",
      "weighted avg       0.69      0.68      0.68        88\n",
      "\n"
     ]
    },
    {
     "data": {
      "text/plain": [
       "Text(0.5, 1.0, 'Confusion matrix - default parameters, scoring = accuracy')"
      ]
     },
     "execution_count": 6,
     "metadata": {},
     "output_type": "execute_result"
    },
    {
     "data": {
      "image/png": "[encoded data removed]",
      "text/plain": [
       "<Figure size 432x288 with 2 Axes>"
      ]
     },
     "metadata": {
      "needs_background": "light"
     },
     "output_type": "display_data"
    }
   ],
   "source": [
    "#Create a svm Classifier\n",
    "clf_raw = SVC(kernel='rbf',probability=True,random_state=100) # Linear Kernel\n",
    "\n",
    "#Train the model using the training sets\n",
    "clf_raw.fit(X_train_scaled, y_train)\n",
    "\n",
    "#Predict the response for test dataset\n",
    "#_raw suffix is used to identify this model in the final model reviews\n",
    "y_pred_raw = clf_raw.predict(X_test_scaled)\n",
    "\n",
    "#y_score_raw = clf_raw.predict_proba(X_test_scaled)\n",
    "#retains positive values only\n",
    "y_score_raw = clf_raw.predict_proba(X_test_scaled)[:,1]\n",
    "\n",
    "#print(\"Accuracy =\", accuracy_score(y_test, y_pred_raw))\n",
    "#print(\"Precision =\", precision_score(y_test, y_pred_raw))\n",
    "#print('f1 = {:.2f}'.format(f1_score(y_test, y_pred_raw)))\n",
    "#print(\"AUC =\", roc_auc_score(y_test, y_pred_raw))\n",
    "\n",
    "# print classification report \n",
    "print(classification_report(y_test, y_pred_raw)) \n",
    "\n",
    "#confusion matrix plot\n",
    "disp = plot_confusion_matrix(clf_raw,X_test_scaled,y_test, display_labels=[\"Fail\",\"Success\"])\n",
    "#set confusion matrix plot\n",
    "disp.ax_.set_title('Confusion matrix - default parameters, scoring = ' + score_cat)\n",
    "\n",
    "#print(title)\n",
    "#print(disp.confusion_matrix)\n"
   ]
  },
  {
   "cell_type": "markdown",
   "metadata": {},
   "source": [
    "<a id='section_id_gridsearchcv'></a>"
   ]
  },
  {
   "cell_type": "markdown",
   "metadata": {},
   "source": [
    "### 7 Tune Hyperparameters using GridsearchCV\n",
    "Use the sklearn function of GridsearchCV to find which parameters provide the best model fit when predicting the X_test_scaled dataset"
   ]
  },
  {
   "cell_type": "code",
   "execution_count": null,
   "metadata": {},
   "outputs": [],
   "source": [
    "# Set the parameters by cross-validation\n",
    "\n",
    "tuned_parameters = {'C': [0.001,0.005,0.01,0.05,0.1,0.5,1,1,5,2,2.5,3,4,5], 'gamma': [1,0.1,0.05,0.01,0.005, 0.001],'kernel': ['rbf', 'poly', 'sigmoid']}\n",
    "\n",
    "\n",
    "#set up the Gridserch model\n",
    "#cross validation fold is specified in section 2\n",
    "clf_cv = GridSearchCV(SVC(probability=True), tuned_parameters, refit = True,cv = StratifiedKFold(cross_validation_fold), scoring = score_cat) \n",
    "  \n",
    "# fitting the model for grid search \n",
    "clf_cv.fit(X_train_scaled, y_train) \n",
    "\n",
    "\n",
    "#option to print out scores of cross validation fold data\n",
    "#means = clf_cv.cv_results_['mean_test_score']\n",
    "#stds = clf_cv.cv_results_['std_test_score']\n",
    "#for mean, std, params in zip(means, stds, clf_cv.cv_results_['params']):\n",
    "#    print(\"%0.3f (+/-%0.03f) for %r\"\n",
    "#          % (mean, std * 2, params)) \n",
    " \n",
    "#predictions based upon the x_test dataset using the recommended model fit    \n",
    "y_pred_gridcv = clf_cv.predict(X_test_scaled) \n",
    "   \n",
    "y_score_gridcv = clf_cv.predict_proba(X_test_scaled)[:,1]    \n",
    "#retains positive values only\n",
    "#y_score_gridcv = clf_cv.predict_proba(X_test_scaled)[:,1]\n",
    "    \n",
    "\n",
    "print(\"Best parameters for scoring category : \", score_cat)\n",
    "print(clf_cv.best_params_) \n",
    "\n",
    "#display classification report\n",
    "print(\"\\nClassiciation Report:\\n\",classification_report(y_test, y_pred_gridcv)) \n",
    "\n",
    "#plot the confusion matrix - visual qc with colour fill\n",
    "disp = plot_confusion_matrix(clf_cv,X_test_scaled,y_test, display_labels=[\"Fail\",\"Success\"])\n",
    "#set confusion matrix plot\n",
    "disp.ax_.set_title('Confusion matrix - GridsearchCV, scoring = ' + score_cat)\n"
   ]
  },
  {
   "cell_type": "markdown",
   "metadata": {},
   "source": [
    "<a id='section_id_roc_curve'></a>"
   ]
  },
  {
   "cell_type": "markdown",
   "metadata": {},
   "source": [
    "### 8 Receiver Operating Character (ROC) curve\n",
    "Compare the roc curves for the raw, gridsearchcv, rfe and chi2 models. Labels show the AUC score."
   ]
  },
  {
   "cell_type": "code",
   "execution_count": null,
   "metadata": {},
   "outputs": [],
   "source": [
    "#ROC AUC Curve Generation for final optimised model\n",
    "false_positive_raw, true_positive_raw, threshold_raw = roc_curve(y_test, y_score_raw)\n",
    "\n",
    "#ROC AUC Curve Generation for final optimised model\n",
    "false_positive_gridcv, true_positive_gridcv, threshold_tuned_feature = roc_curve(y_test, y_score_gridcv)\n",
    "\n",
    "raw_auc_label = \"raw, AUC = {:.2f}\".format(roc_auc_score(y_test, y_score_raw))\n",
    "gridcv_auc_label = \"gridCV, AUC = {:.2f}\".format(roc_auc_score(y_test, y_score_gridcv))\n",
    "\n",
    "#Plot ROC Curve\n",
    "plt.subplots(1, figsize=(10,10))\n",
    "plt.title('Receiver Operating Characteristic - Linear SVM: Scoring = ' + score_cat)\n",
    "plt.plot(false_positive_raw, true_positive_raw, label=raw_auc_label)\n",
    "plt.plot(false_positive_gridcv, true_positive_gridcv, label=gridcv_auc_label)\n",
    "plt.plot([0, 1], ls=\"--\", label='Baseline')\n",
    "plt.plot([0, 0], [1, 0] , c=\".2\"), plt.plot([1, 1] , c=\".2\",label=\"Perfect classifier\")\n",
    "plt.ylabel('True Positive Rate')\n",
    "plt.xlabel('False Positive Rate')\n",
    "plt.legend(loc=\"lower right\")\n",
    "plt.show()\n",
    "\n",
    "#print('roc_auc_score for Linear SVM: ', roc_auc_score(y_test, y_score_tuned_feature))"
   ]
  },
  {
   "cell_type": "markdown",
   "metadata": {},
   "source": [
    "<a id='section_id_pr_curve'></a>"
   ]
  },
  {
   "cell_type": "markdown",
   "metadata": {},
   "source": [
    "### 9 Precision Recall (PR) curve\n",
    "Compare the precision recall curves for the raw, gridsearchcv, rfe and chi2 models. Labels show the AUPR score."
   ]
  },
  {
   "cell_type": "code",
   "execution_count": null,
   "metadata": {},
   "outputs": [],
   "source": [
    "from sklearn.metrics import plot_precision_recall_curve\n",
    "from sklearn.metrics import precision_recall_curve\n",
    "from sklearn.metrics import average_precision_score\n",
    "\n",
    "\n",
    "#AUPR Curve Generation for raw model\n",
    "prec_raw, recall_raw, threshold_pr_raw = precision_recall_curve(y_test, y_score_raw)\n",
    "\n",
    "#AUPR Curve Generation for gridsearch cv model\n",
    "prec_gridcv, recall_gridcv, threshold_pr_tuned_feature = precision_recall_curve(y_test, y_score_gridcv)\n",
    "\n",
    "raw_pr_label = \"raw, AUPR = {:.2f}\".format(average_precision_score(y_test, y_score_raw))\n",
    "gridcv_pr_label = \"gridCV, AUPR = {:.2f}\".format(average_precision_score(y_test, y_score_gridcv))\n",
    "\n",
    "baseline = len(y_test[y_test==1]) / len(y_test)\n",
    "# plot the no skill precision-recall curve\n",
    "\n",
    "\n",
    "#Plot Precision Recall Curve\n",
    "plt.subplots(1, figsize=(10,10))\n",
    "plt.title('Precision Recall Curve - Linear SVM: Scoring = ' + score_cat)\n",
    "plt.plot( recall_raw,prec_raw, label=raw_pr_label)\n",
    "plt.plot( recall_gridcv,prec_gridcv, label=gridcv_pr_label)\n",
    "plt.plot([0, 1], [baseline, baseline], linestyle='--', label='Baseline')\n",
    "plt.plot([0, 1], [1, 1] , c=\".2\"), plt.plot([1, 1] , [1, 0], c=\".2\",label=\"perfect classifier\")\n",
    "plt.ylabel('Precision')\n",
    "plt.xlabel('Recall')\n",
    "plt.legend(loc=\"lower right\")\n",
    "plt.show()\n"
   ]
  },
  {
   "cell_type": "markdown",
   "metadata": {},
   "source": [
    "<a id='section_id_model_comparisons'></a>"
   ]
  },
  {
   "cell_type": "markdown",
   "metadata": {},
   "source": [
    "### 10 Final model comparisons\n",
    "Compare the outputs from all stages of the model evaluation: raw, gridsearchcv and rfecv."
   ]
  },
  {
   "cell_type": "code",
   "execution_count": null,
   "metadata": {
    "scrolled": false
   },
   "outputs": [],
   "source": [
    "def summary_scores(y_test_summary, y_pred_summary, y_score_summary):\n",
    "    \n",
    "    print('Accuracy score on test set: {:.2f}'.format(accuracy_score(y_test_summary, y_pred_summary)))\n",
    "    print('Precision score on test set: {:.2f}'.format(precision_score(y_test_summary, y_pred_summary)))\n",
    "    print('Recall score on test set: {:.2f}'.format(recall_score(y_test_summary, y_pred_summary)))\n",
    "    print('Micro f1  score on test set: {:.2f}'.format(f1_score(y_test_summary, y_pred_summary, average='micro')))\n",
    "    print('Macro f1  score on test set: {:.2f}'.format(f1_score(y_test_summary, y_pred_summary, average='macro')))\n",
    "    print('Weighted f1  score on test set: {:.2f}'.format(f1_score(y_test_summary, y_pred_summary, average='weighted')))\n",
    "    print(\"AUC  on test set: {:.2f}\".format(roc_auc_score(y_test_summary, y_score_summary)))\n",
    "    print(\"\\n\")\n",
    "\n",
    "print(\"\\nSupport Vector Machine: Default parameters\\n\")    \n",
    "summary_scores(y_test, y_pred_raw, y_score_raw)\n",
    "\n",
    "print(\"Support Vector Machine: Gridsearch\\n\")\n",
    "summary_scores(y_test, y_pred_gridcv, y_score_gridcv)\n",
    "\n"
   ]
  },
  {
   "cell_type": "code",
   "execution_count": null,
   "metadata": {},
   "outputs": [],
   "source": []
  }
 ],
 "metadata": {
  "kernelspec": {
   "display_name": "Python 3",
   "language": "python",
   "name": "python3"
  },
  "language_info": {
   "codemirror_mode": {
    "name": "ipython",
    "version": 3
   },
   "file_extension": ".py",
   "mimetype": "text/x-python",
   "name": "python",
   "nbconvert_exporter": "python",
   "pygments_lexer": "ipython3",
   "version": "3.7.6"
  }
 },
 "nbformat": 4,
 "nbformat_minor": 4
}
