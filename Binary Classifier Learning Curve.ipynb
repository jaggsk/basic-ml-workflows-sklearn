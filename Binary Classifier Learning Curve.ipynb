{
 "cells": [
  {
   "cell_type": "markdown",
   "metadata": {},
   "source": [
    "### Objective\n",
    "Create a learning curve for a binary classifier, plotting number of data input points verses a selected scoring metric.\n",
    "\n",
    "### Method\n",
    "* Step 1 -  [Import the required python modules.](#section_id_import_modules). Import of pandas dataframe, numpy, matplotlib and sklearn modules\n",
    "\n",
    "\n",
    "* Step 2 -  [User selected parameters.](#section_id_parameters). Options for user to select scoring criteria, cross validation number etc.\n",
    "\n",
    "\n",
    "* Step 3 -  [Import Database_csv_to_pandas](#section_id_import_database). Import of database csv file to pandas dataframe. Note: the csv file is an independently formatted file, composed of random scoring criteria and the output column in last position [-1].\n",
    "\n",
    "\n",
    "* Step 4 -  [Select classifier model.](#section_id_classifier). Select the classifier algorithm to create the learning curve. It is assumed that hyperparameters have been tuned prior to this workflow but it can also be run with default parameters.\n",
    "\n",
    "\n",
    "* Step 5 -  [Select cross validation parameter.](#section_id_cross_validation). Select a cross validation size. The test data size will limit the maximum number of number of training examples that can be achieved. This number is limited -> Max No. training samples = int(test_size * number of data points) \n",
    "\n",
    "\n",
    "* Step 6 -  [Feature scale input data](#section_id_feature_scale). Rescale the features/input columns such that they have the properties of a standard normal distribution with a mean of zero and a standard deviation of one.\n",
    "\n",
    "\n",
    "* Step 6 -  [Plot learning curve](#section_id_plot).\n",
    "Plot the number of training samples vs scoring metric. Also adds\n",
    "\n",
    "\n",
    "### Dataset\n",
    "A synthetic dataset with a binary outcome [0,1] in the last position. Most columns are discrete values [0,1,2,3,4,5] but some are continuous floats.\n",
    "Note: the supplied input file is a conditioned, synthetic binary classification dataset i.e binary outcome of 0 or 1. You can simply add in a user selected database with the following preconditions: 1) Nan or empty cell values will be replaced with zero, 2) binary outcome only, 3) the results column is the last one [-1]. \n",
    "\n",
    "### Programming\n",
    "This evaluation is performed using Python code and SKlearn provides all the classifier modules. \n",
    "\n",
    "At the time of script creation the following verions were used.\n",
    "Python: 3.7.6\n",
    "Numpy: 1.18.1\n",
    "Pandas: 1.0.1\n",
    "SKlearn: 0.22.1\n",
    "\n",
    "### Outputs\n",
    "for selected classifier:\n",
    "Plot 1: No training examples v Scoring metric.\n",
    "Plot 2: No training examples v Fit times.\n",
    "Plot 3: Fit times v Scoring metric."
   ]
  },
  {
   "cell_type": "markdown",
   "metadata": {},
   "source": [
    "<a id='section_id_import_modules'></a>"
   ]
  },
  {
   "cell_type": "markdown",
   "metadata": {},
   "source": [
    "### 1. Import required Python Modules"
   ]
  },
  {
   "cell_type": "code",
   "execution_count": 1,
   "metadata": {},
   "outputs": [],
   "source": [
    "#pandas dataframe - similar to a python version of excel. Most efficient way to perform data operations\n",
    "import pandas as pd\n",
    "\n",
    "#numpy for most mathematical operations\n",
    "import numpy as np\n",
    "\n",
    "#sklearn for machine learning modules and scoring algorithms\n",
    "from sklearn.model_selection import ShuffleSplit\n",
    "from sklearn.model_selection import train_test_split\n",
    "from sklearn.preprocessing import StandardScaler\n",
    "from sklearn.model_selection import learning_curve\n",
    "\n",
    "#SKlearn classifier\n",
    "from sklearn.svm import SVC\n",
    "from sklearn.ensemble import RandomForestClassifier\n",
    "from sklearn import linear_model\n",
    "\n",
    "#plotting\n",
    "import matplotlib.pyplot as plt"
   ]
  },
  {
   "cell_type": "markdown",
   "metadata": {},
   "source": [
    "<a id='section_id_parameter'></a>"
   ]
  },
  {
   "cell_type": "markdown",
   "metadata": {},
   "source": [
    "### 2. User selected parameters\n",
    "Select scoring method, options of 'accuracy', 'precision', 'f1', 'roc_auc'\n",
    "Crossvalidation fold i.e how many subsets the training data is split into for cross validation purposes, recommend value above 3 as this below this point overfits the data and will create a prediction error in the final assessment."
   ]
  },
  {
   "cell_type": "code",
   "execution_count": 2,
   "metadata": {},
   "outputs": [],
   "source": [
    "#Accuracy - ratio of correctly predicted observation to the total observations. \n",
    "#Accuracy works best if false positives and false negatives have similar cost. \n",
    "#Accuracy = TP+TN/TP+FP+FN+TN\n",
    "\n",
    "#Precision - Precision is the ratio of correctly predicted positive observations to the total predicted positive observations.\n",
    "#High precision relates to the low false positive rate.\n",
    "#Precision = TP/TP+FP\n",
    "\n",
    "#Recall (Sensitivity) - Recall is the ratio of correctly predicted positive observations to the all observations in actual class\n",
    "#Recall = TP/TP+FN\n",
    "\n",
    "#F1 score - F1 Score is the weighted average of Precision and Recall. Takes both false pos and false neg into account. \n",
    "#Use F1 if you have an uneven class distribution. \n",
    "#If the cost of false positives and false negatives are very different - look at both Precision and Recall.\n",
    "#F1 Score = 2*(Recall * Precision) / (Recall + Precision)\n",
    "\n",
    "#roc_auc - the area under the receiver operating characteristic, plots the False Positive rate vs True Positive Rate for different thrshold cut offs.\n",
    "#The best models should plot towards the upper left quadrant of the plot, therefore calculating the area under the curve is a good measure of model performance.\n",
    "\n",
    "\n",
    "#score_cat = 'roc_auc'\n",
    "score_cat = 'accuracy'\n",
    "#score_cat = 'precision'\n",
    "#score_cat = 'f1_score'\n",
    "\n",
    "#plot labels are updated based upon \n",
    "if score_cat == 'roc_auc':\n",
    "    plot_label = 'AUC'\n",
    "if score_cat == 'accuracy':\n",
    "    plot_label = 'Accuracy'\n",
    "if score_cat == 'precision':\n",
    "    plot_label = 'Precision' \n",
    "if score_cat == 'recall':\n",
    "    plot_label = 'Recall'    \n",
    "if score_cat == 'f1_score':\n",
    "    plot_label = 'f1 score'  \n",
    "    \n",
    "#number of folds (equal data subsets) employed in cross validation - recommended to use above 4 for this dataset    \n",
    "cross_validation_fold = 3    \n",
    "\n",
    "#see random number generators - for repeatability\n",
    "random_seed = 57\n",
    "\n",
    "#proportion size of test data for scoring purposes. \n",
    "#i.e test_size = 0.2 = training size = 0.8 * number of samples, test size = 0.2 * training samples.\n",
    "#must be a number \n",
    "test_size = 0.2\n"
   ]
  },
  {
   "cell_type": "markdown",
   "metadata": {},
   "source": [
    "<a id='section_id_import_database'></a>"
   ]
  },
  {
   "cell_type": "markdown",
   "metadata": {},
   "source": [
    "### 3. Import database csv file to pandas\n",
    "The csv file is imported into a pandas dataframe, allowing ease of computation in later modules. All columns are considered numeric. The column header is the data category and the index is the row ID. There should be no Nan or empty cell values amd the output column is assumed to be in last column position."
   ]
  },
  {
   "cell_type": "code",
   "execution_count": 3,
   "metadata": {},
   "outputs": [
    {
     "name": "stdout",
     "output_type": "stream",
     "text": [
      "Dataframe size on import\n",
      "Number of prospects : 352\n",
      "Number of data categories : 43\n"
     ]
    }
   ],
   "source": [
    "def readcsvfile():\n",
    "    '''\n",
    "    (csv)->(pandas dataframe)\n",
    "    routine to read import csv file to pandas\n",
    "    comma separation, column headers = first row of text\n",
    "    All column data is considered numeric\n",
    "    Index = row \n",
    "    -999.25 values are converted to numpy NaN\n",
    "    PRECONDITION: Import csv file is the correct format. All lines without a 1/0 output removed.\n",
    "    KJAGGS June 2020\n",
    "    '''\n",
    "    \n",
    "    #read csv file to pandas dataframe\n",
    "    df = pd.read_csv('classification_dataset.csv', encoding = 'utf-8',header=0,sep=',', index_col=0)\n",
    "    #df = df.set_index('Row ID')\n",
    "    df = df.apply(pd.to_numeric, errors='ignore')\n",
    "    df = df.replace(-999.25,np.NaN)\n",
    "    df = df.replace(np.NaN,0)\n",
    "    #print(df.isnull().any())\n",
    "    return df\n",
    "\n",
    "df = readcsvfile()\n",
    "\n",
    "###optional qc features - remove hash/# to view \n",
    "#print(df.head)\n",
    "#print(df.columns.tolist)\n",
    "\n",
    "#number of data inputs - used for cross validation split max training size\n",
    "data_samples = df.shape[0]\n",
    "\n",
    "\n",
    "\n",
    "print(\"Dataframe size on import\")\n",
    "print(\"Number of prospects :\", df.shape[0])\n",
    "print(\"Number of data categories :\", df.shape[1])\n",
    "\n",
    "\n",
    "#remove result column from input dataset\n",
    "y = df[df.columns[-1]]\n",
    "\n",
    "#X = df.drop(df.columns[[-1]], axis=1)\n",
    "#X = df.drop(df.columns[[1,-1]], axis=1)\n",
    "X = df.drop(df.columns[[0,1,-1]], axis=1)"
   ]
  },
  {
   "cell_type": "markdown",
   "metadata": {},
   "source": [
    "<a id='section_id_classifier'></a>"
   ]
  },
  {
   "cell_type": "markdown",
   "metadata": {},
   "source": [
    "### 4. Select classifier model.\n",
    "Select the classifier algorithm to create the learning curve. It is assumed that hyperparameters have been tuned prior to this workflow but it can also be run with default parameters."
   ]
  },
  {
   "cell_type": "code",
   "execution_count": 4,
   "metadata": {},
   "outputs": [],
   "source": [
    "#select classifier algorithm and tuned parameters\n",
    "#uncheck the required module as required\n",
    "\n",
    "#classifier_type = 'Support Vector'\n",
    "#classifier_type = 'Logistic Regression'\n",
    "classifier_type = 'Random Forest'\n",
    "\n",
    "\n",
    "if classifier_type == 'Support Vector':\n",
    "    evaluation_model =  SVC(C = 2, gamma = 0.01,  kernel = 'rbf')\n",
    "if classifier_type == 'Logistic Regression':\n",
    "    evaluation_model = linear_model.LogisticRegression(C=0.1, penalty= 'l2',random_state=random_seed)\n",
    "if classifier_type == 'Random Forest':\n",
    "    evaluation_model = RandomForestClassifier(bootstrap=True,max_depth = None, max_features= 'sqrt', \n",
    "    min_samples_leaf = 9, min_samples_split= 5, n_estimators = 1650)\n",
    "    "
   ]
  },
  {
   "cell_type": "markdown",
   "metadata": {},
   "source": [
    "<a id='section_id_cross_validation'></a>"
   ]
  },
  {
   "cell_type": "markdown",
   "metadata": {},
   "source": [
    "### 5. Select cross validation parameter.\n",
    "Select a cross validation size. The test data size will limit the maximum number of number of training examples that can be achieved. This number is limited -> Max No. training samples = int(test_size * number of data points) "
   ]
  },
  {
   "cell_type": "code",
   "execution_count": 5,
   "metadata": {},
   "outputs": [],
   "source": [
    "#cross validation parameters, test size specified earlier\n",
    "cv = ShuffleSplit(n_splits=cross_validation_fold, test_size=test_size, random_state=random_seed)\n",
    "\n",
    "#array for number of training samples to calculate\n",
    "train_plot_points = []\n",
    "\n",
    "#determine the maximum possible training set size from the specified split.\n",
    "#1-training split * number if input samples\n",
    "max_training_cv = int((1-test_size)*data_samples)\n",
    "#determine the points (in muber of samples) to calculate cv/train scores \n",
    "training_point_interval = int((max_training_cv-10)/6) \n",
    "for i in range(10,int((1-test_size)*data_samples),training_point_interval):\n",
    "    train_plot_points.append(i)\n",
    "    #print(i)\n",
    "\n",
    "#print(train_plot_points)  \n",
    "    \n"
   ]
  },
  {
   "cell_type": "markdown",
   "metadata": {},
   "source": [
    "<a id='section_id_feature_scale'></a>"
   ]
  },
  {
   "cell_type": "markdown",
   "metadata": {},
   "source": [
    "### 6. Feature scale the input data\n",
    "Input independent variables are scaled so that the the attribute mean is zero with a unit standard deviation. Gradient descent algorithms (neural networks, for example) run more efficiently if input features are scaled accordingly."
   ]
  },
  {
   "cell_type": "code",
   "execution_count": 6,
   "metadata": {},
   "outputs": [],
   "source": [
    "#set up scaler - StandardScaler from SciKit learn\n",
    "#Standardize features by removing the mean and scaling to unit variance\n",
    "#z = (x - u) / s\n",
    "scaler = StandardScaler()\n",
    "\n",
    "#scaler is calculated on the train data ONLY. Would be considered data leakage - test data must not influence the model output.\n",
    "scaler.fit(X)\n",
    "\n",
    "#apply the scaler to the train and test datasets\n",
    "X_scaled = scaler.transform(X)\n"
   ]
  },
  {
   "cell_type": "markdown",
   "metadata": {},
   "source": [
    "<a id='section_id_plot'></a>"
   ]
  },
  {
   "cell_type": "markdown",
   "metadata": {},
   "source": [
    "### 7. Plot learning curve\n",
    "Plot the number of training samples vs scoring metric. Also adds"
   ]
  },
  {
   "cell_type": "markdown",
   "metadata": {},
   "source": [
    "https://scikit-learn.org/stable/auto_examples/model_selection/plot_learning_curve.html#sphx-glr-auto-examples-model-selection-plot-learning-curve-py"
   ]
  },
  {
   "cell_type": "code",
   "execution_count": 7,
   "metadata": {
    "scrolled": true
   },
   "outputs": [
    {
     "data": {
      "image/png": "[encoded data removed]",
      "text/plain": [
       "<Figure size 1440x360 with 3 Axes>"
      ]
     },
     "metadata": {
      "needs_background": "light"
     },
     "output_type": "display_data"
    }
   ],
   "source": [
    "def model_validation_panel(model, X_val, y_val, cv, train_plot= [4,8,12,16,20], score_metric = 'accuracy', title = 'SciKitLearn Classifier'):\n",
    "    '''\n",
    "    (scikitlearn classifier)(pandas/numpy array)(pandas/numpy array)(int)(list of int)(string)(string)->(Matplotlib plot)\n",
    "    Function to plot 3 panels.\n",
    "    Panel 1 - No training samples vs scoring metric\n",
    "    Panel 2 - No training samples vs fit time\n",
    "    Panel 3 - Fit time vs scoring metric\n",
    "    Based upon the example from scikit learn\n",
    "    https://scikit-learn.org/stable/auto_examples/model_selection/plot_learning_curve.html#sphx-glr-auto-examples-model-selection-plot-learning-curve-py\n",
    "    PRECONDITION: supplied models and input datasets are correct. Max number of features > highest value in train_plot list.\n",
    "    K JAGGS JAN 2020\n",
    "    '''\n",
    "    train_sizes, train_scores, valid_scores, fit_times, _  = learning_curve(\n",
    "        model, X_val, y_val, train_sizes=train_plot, \n",
    "        scoring=score_metric, n_jobs=-1, cv=cv,return_times=True)\n",
    "    \n",
    "    train_scores_mean = np.mean(train_scores, axis=1)\n",
    "    train_scores_std = np.std(train_scores, axis=1)\n",
    "    valid_scores_mean = np.mean(valid_scores, axis=1)\n",
    "    valid_scores_std = np.std(valid_scores, axis=1)\n",
    "    fit_times_mean = np.mean(fit_times, axis=1)\n",
    "    fit_times_std = np.std(fit_times, axis=1)\n",
    "    \n",
    "    _, axes = plt.subplots(1, 3, figsize=(20, 5))\n",
    "\n",
    "    axes[0].set_title(title)\n",
    "    \n",
    "    \n",
    "    # Plot n_samples vs score\n",
    "    axes[0].grid()\n",
    "    axes[0].set_title(title)\n",
    "    #if ylim is not None:\n",
    "    #    axes[0].set_ylim(*ylim)\n",
    "    axes[0].set_xlabel(\"No. Training examples\")\n",
    "    axes[0].set_ylabel(score_metric)\n",
    "\n",
    "    axes[0].fill_between(train_sizes, train_scores_mean - train_scores_std,\n",
    "                         train_scores_mean + train_scores_std, alpha=0.1,\n",
    "                         color=\"r\")\n",
    "    axes[0].fill_between(train_sizes, valid_scores_mean - valid_scores_std,\n",
    "                         valid_scores_mean + valid_scores_std, alpha=0.1,\n",
    "                         color=\"g\")\n",
    "    axes[0].plot(train_sizes, train_scores_mean, 'o-', color=\"r\",label=\"Training score\")\n",
    "    axes[0].plot(train_sizes, valid_scores_mean, 'o-', color=\"g\",label=\"Cross-validation score\")\n",
    "    axes[0].legend(loc=\"best\")\n",
    "    \n",
    "    # Plot n_samples vs fit_times\n",
    "    axes[1].grid()\n",
    "    axes[1].plot(train_sizes, fit_times_mean, 'o-')\n",
    "    axes[1].fill_between(train_sizes, fit_times_mean - fit_times_std,\n",
    "                         fit_times_mean + fit_times_std, alpha=0.1)\n",
    "    axes[1].set_xlabel(\"Training examples\")\n",
    "    axes[1].set_ylabel(\"fit_times\")\n",
    "    axes[1].set_title(\"Scalability of the model\")\n",
    "\n",
    "    # Plot fit_time vs score\n",
    "    axes[2].grid()\n",
    "    axes[2].plot(fit_times_mean, valid_scores_mean, 'o-')\n",
    "    axes[2].fill_between(fit_times_mean, valid_scores_mean - valid_scores_std,\n",
    "                         valid_scores_mean + valid_scores_std, alpha=0.1)\n",
    "    axes[2].set_xlabel(\"fit_times\")\n",
    "    axes[2].set_ylabel(score_metric)\n",
    "    axes[2].set_title(\"Performance of the model\")\n",
    "    \n",
    "model_validation_panel(evaluation_model, X_scaled, y, cv,train_plot = train_plot_points, score_metric = score_cat,title = classifier_type)"
   ]
  },
  {
   "cell_type": "code",
   "execution_count": null,
   "metadata": {},
   "outputs": [],
   "source": []
  }
 ],
 "metadata": {
  "kernelspec": {
   "display_name": "Python 3",
   "language": "python",
   "name": "python3"
  },
  "language_info": {
   "codemirror_mode": {
    "name": "ipython",
    "version": 3
   },
   "file_extension": ".py",
   "mimetype": "text/x-python",
   "name": "python",
   "nbconvert_exporter": "python",
   "pygments_lexer": "ipython3",
   "version": "3.7.6"
  }
 },
 "nbformat": 4,
 "nbformat_minor": 4
}
