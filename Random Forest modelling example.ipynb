{
 "cells": [
  {
   "cell_type": "markdown",
   "metadata": {},
   "source": [
    "## Machine Learning - Random Forest Classifier Example\n",
    "### Kevin Jaggs Jan 2020\n",
    "\n",
    "### Objective:\n",
    "\n",
    "Train a Random Forest Classifier (RFC) algorithm to an input training database. Starting with a default parameter RFC model, the aim is to tune hyperparameters and identify the most important input features to optimise the classifier performance.\n",
    "\n",
    "Outcomes at each stage will be scored using conventional binary classification scoring metrics.\n",
    "\n",
    "\n",
    "### Method:\n",
    "\n",
    "* Step 1 -  [Import the required python modules](#section_id_import_modules). Import of pandas dataframe, numpy, matplotlib and sklearn modules\n",
    "\n",
    "\n",
    "* Step 2 -  [User selected parameters](#section_id_parameters). Options for user to select scoring criteria, cross validation number etc.\n",
    "\n",
    "\n",
    "* Step 3 -  [Import Database_csv_to_pandas](#section_id_import_database). Import of database csv file to pandas dataframe. Note: the csv file is an independently formatted file, composed of random scoring criteria and the output column in last position [-1].\n",
    "\n",
    "\n",
    "* Step 4 -  [Split dataset into test and train portions](#section_id_test_train_split). For conventional machine learning workflows, the input and output datasets are divided into training and testing sub-volumes. Algorithms are trained on the (not suprisingly) 'train' dataset and model outcomes are compared using the 'test' dataset, to prevent over-fitting.\n",
    "\n",
    "\n",
    "* Step 5 -  [Train default Random Forest Classifier](#section_id_default_rfc). SKlearn RFC trained using default parameters only.\n",
    "\n",
    "\n",
    "* Step 6 -  [Perform randomised search with cross validation.](#section_id_randomised_search). A random search of a large grid of hyperparameters highlights the model parameter values where a targeted GridSearchCV should be performed. \n",
    "\n",
    "\n",
    "* Step 7 - [Review randomised search model](#section_id_randomised_search_evaluation) Evaluate the Randomised search model performance using a classification report and confusion matrix.\n",
    "\n",
    "\n",
    "* Step 8 - [Perform GridsearchCV to fine tune hyperparameters.](#section_id_gridsearchcv)Using the RandomizedSearchCV output as a guide, identify the hyperparameter values to optimise model performance.\n",
    "\n",
    "\n",
    "* Step 9 - [GridsearchCV model evaluation.](#section_id_gridsearchcv_evaluation) Evaluate the final GridsearchCV hyperparameter selection model using a classification report and confusion matrix.\n",
    "\n",
    "\n",
    "* Step 10- [Feature selection](#section_id_gridsearchcv_evaluation) Determine the most important features using the SelectFromModel module. Features that score above a predetermined threshold score are identified.\n",
    "\n",
    "\n",
    "* Step 11- [Print important features](#section_id_gridsearchcv_print_features) Selected features are ordered by descending score. High number = high importance.\n",
    "\n",
    "\n",
    "* Step 12- [Evaluate feature selection model](#section_id_features_evaluation) Evaluate the feature selection model performance using a classification report and confusion matrix.\n",
    "\n",
    "\n",
    "* Step 13- [ROC Plot](#section_id_roc) Comparison of the ROC curves for raw, GridsearchCV and feature selection result models. Labels show the AUC score.\n",
    "\n",
    "\n",
    "* Step 14- [Precision vs Recall Plot](#section_id_pr) Comparison of the PR curves for raw, GridsearchCV and feature selection result models. Labels show the AUPR score.\n",
    "\n",
    "\n",
    "* Step 15- [Compare model performances](#section_id_model_summary) Compare the outputs from all stages of the model evaluation: raw, RandomizedSearch, GridsearchCV and feature selection.\n",
    "\n",
    "\n",
    "### Dataset\n",
    "A synthetic dataset with a binary outcome [0,1] in the last position. Most columns are discrete values [0,1,2,3,4,5] but some are continuous floats.\n",
    "Note: the supplied input file is a conditioned, synthetic binary classification dataset i.e binary outcome of 0 or 1. You can simply add in a user selected database with the following preconditions: 1) Nan or empty cell values will be replaced with zero, 2) binary outcome only, 3) the results column is the last one [-1]. \n",
    "\n",
    "### Programming\n",
    "This evaluation is performed using Python code and SKlearn provides all the classifier modules. \n",
    "\n",
    "At the time of script creation the following verions were used.\n",
    "Python: 3.7.6\n",
    "Numpy: 1.18.1\n",
    "Pandas: 1.0.1\n",
    "SKlearn: 0.22.1\n",
    "\n",
    "### Outputs\n",
    "Overview plot of model fit for each classifier\n",
    "Sheet of evaluation criteria ordered by descending AUC score"
   ]
  },
  {
   "cell_type": "markdown",
   "metadata": {},
   "source": [
    "<a id='section_id_import_modules'></a>"
   ]
  },
  {
   "cell_type": "markdown",
   "metadata": {},
   "source": [
    "### 1. Import required Python Modules"
   ]
  },
  {
   "cell_type": "code",
   "execution_count": 130,
   "metadata": {},
   "outputs": [
    {
     "name": "stdout",
     "output_type": "stream",
     "text": [
      "Python version:  3 . 7 . 6\n",
      "Numpy Version:  1.18.1\n",
      "Pandas Version:  1.0.1\n",
      "Scikitlearn Version:  0.22.1\n"
     ]
    }
   ],
   "source": [
    "#print(__doc__)\n",
    "\n",
    "#pandas dataframe - similar to a python version of excel. Most efficient way to perform data operations\n",
    "import pandas as pd\n",
    "\n",
    "#numpy for most mathematical operations\n",
    "import numpy as np\n",
    "\n",
    "#matplotlib for plotting functions\n",
    "#import matplotlib.pyplot as plt\n",
    "#from matplotlib.colors import ListedColormap\n",
    "#seaborn for plotting heatmap\n",
    "#import seaborn as sns\n",
    "\n",
    "#sklearn for machine learning modules and scoring algorithms\n",
    "from sklearn.model_selection import train_test_split\n",
    "from sklearn.preprocessing import StandardScaler\n",
    "\n",
    "#SKlearn classifier and hyperparameter search modules\n",
    "from sklearn.ensemble import RandomForestClassifier\n",
    "from sklearn.model_selection import RandomizedSearchCV\n",
    "\n",
    "#from sklearn.metrics import roc_auc_score, accuracy_score, precision_score, f1_score, plot_confusion_matrix,classification_report\n",
    "from sklearn.metrics import roc_curve,roc_auc_score, accuracy_score, recall_score, precision_score, f1_score, plot_confusion_matrix,classification_report\n",
    "\n",
    "#chi2 calculation\n",
    "from sklearn.feature_selection import SelectKBest\n",
    "from sklearn.feature_selection import chi2\n",
    "import scipy\n",
    "\n",
    "#feature selection\n",
    "from sklearn.feature_selection import SelectFromModel\n",
    "\n",
    "#plotting\n",
    "import matplotlib.pyplot as plt\n",
    "\n",
    "\n",
    "import sys\n",
    "import sklearn\n",
    "print(\"Python version: \", sys.version_info[0],\".\",sys.version_info[1],\".\",sys.version_info[2])\n",
    "print(\"Numpy Version: \" ,np.__version__)\n",
    "print(\"Pandas Version: \" ,pd.__version__)\n",
    "print(\"Scikitlearn Version: \" ,sklearn.__version__)\n",
    "\n"
   ]
  },
  {
   "cell_type": "markdown",
   "metadata": {},
   "source": [
    "<a id='section_id_parameter'></a>"
   ]
  },
  {
   "cell_type": "markdown",
   "metadata": {},
   "source": [
    "### 2. User selected parameters\n",
    "Select scoring method, options of 'accuracy', 'precision', 'f1', 'roc_auc'\n",
    "Crossvalidation fold i.e how many subsets the training data is split into for cross validation purposes, recommend value above 3 as this below this point overfits the data and will create a prediction error in the final assessment."
   ]
  },
  {
   "cell_type": "code",
   "execution_count": 131,
   "metadata": {},
   "outputs": [],
   "source": [
    "#Accuracy - ratio of correctly predicted observation to the total observations. \n",
    "#Accuracy works best if false positives and false negatives have similar cost. \n",
    "#Accuracy = TP+TN/TP+FP+FN+TN\n",
    "\n",
    "#Precision - Precision is the ratio of correctly predicted positive observations to the total predicted positive observations.\n",
    "#High precision relates to the low false positive rate.\n",
    "#Precision = TP/TP+FP\n",
    "\n",
    "#Recall (Sensitivity) - Recall is the ratio of correctly predicted positive observations to the all observations in actual class\n",
    "#Recall = TP/TP+FN\n",
    "\n",
    "#F1 score - F1 Score is the weighted average of Precision and Recall. Takes both false pos and false neg into account. \n",
    "#Use F1 if you have an uneven class distribution. \n",
    "#If the cost of false positives and false negatives are very different - look at both Precision and Recall.\n",
    "#F1 Score = 2*(Recall * Precision) / (Recall + Precision)\n",
    "\n",
    "#roc_auc - the area under the receiver operating characteristic, plots the False Positive rate vs True Positive Rate for different thrshold cut offs.\n",
    "#The best models should plot towards the upper left quadrant of the plot, therefore calculating the area under the curve is a good measure of model performance.\n",
    "\n",
    "\n",
    "#score_cat = 'roc_auc'\n",
    "score_cat = 'accuracy'\n",
    "#score_cat = 'precision'\n",
    "#score_cat = 'f1_score'\n",
    "\n",
    "#plot labels are updated based upon \n",
    "if score_cat == 'roc_auc':\n",
    "    plot_label = 'AUC'\n",
    "if score_cat == 'accuracy':\n",
    "    plot_label = 'Accuracy'\n",
    "if score_cat == 'precision':\n",
    "    plot_label = 'Precision' \n",
    "if score_cat == 'recall':\n",
    "    plot_label = 'Recall'    \n",
    "if score_cat == 'f1_score':\n",
    "    plot_label = 'f1 score'  \n",
    "    \n",
    "#number of folds (equal data subsets) employed in cross validation - recommended to use above 4 for this dataset    \n",
    "cross_validation_fold = 5    \n",
    "\n",
    "#confidnce interval for chi2 calculation\n",
    "conf_int = 0.95\n",
    "\n",
    "#see random number generators - for repeatability\n",
    "random_seed = 57\n"
   ]
  },
  {
   "cell_type": "markdown",
   "metadata": {},
   "source": [
    "<a id='section_id_import_database'></a>"
   ]
  },
  {
   "cell_type": "markdown",
   "metadata": {},
   "source": [
    "### 3. Import database csv file to pandas\n",
    "The csv file is imported into a pandas dataframe, allowing ease of computation in later modules. All columns are considered numeric. The column header is the data category and the index is the row ID. There should be no Nan or empty cell values amd the output column is assumed to be in last column position."
   ]
  },
  {
   "cell_type": "code",
   "execution_count": 132,
   "metadata": {},
   "outputs": [
    {
     "name": "stdout",
     "output_type": "stream",
     "text": [
      "Dataframe size on import\n",
      "Number of prospects : 352\n",
      "Number of data categories : 43\n"
     ]
    }
   ],
   "source": [
    "def readcsvfile():\n",
    "    '''\n",
    "    (csv)->(pandas dataframe)\n",
    "    routine to read import csv file to pandas\n",
    "    comma separation, column headers = first row of text\n",
    "    All column data is considered numeric\n",
    "    Index = row \n",
    "    -999.25 values are converted to numpy NaN\n",
    "    PRECONDITION: Import csv file is the correct format. All lines without a 1/0 output removed.\n",
    "    KJAGGS June 2020\n",
    "    '''\n",
    "    \n",
    "    #read csv file to pandas dataframe\n",
    "    df = pd.read_csv('classification_dataset.csv', encoding = 'utf-8',header=0,sep=',', index_col=0)\n",
    "    #df = df.set_index('Row ID')\n",
    "    df = df.apply(pd.to_numeric, errors='ignore')\n",
    "    df = df.replace(-999.25,np.NaN)\n",
    "    df = df.replace(np.NaN,0)\n",
    "    #print(df.isnull().any())\n",
    "    return df\n",
    "\n",
    "df = readcsvfile()\n",
    "\n",
    "###optional qc features - remove hash/# to view \n",
    "#print(df.head)\n",
    "#print(df.columns.tolist)\n",
    "\n",
    "\n",
    "print(\"Dataframe size on import\")\n",
    "print(\"Number of prospects :\", df.shape[0])\n",
    "print(\"Number of data categories :\", df.shape[1])"
   ]
  },
  {
   "cell_type": "markdown",
   "metadata": {},
   "source": [
    "<a id='section_id_test_train_split'></a>"
   ]
  },
  {
   "cell_type": "markdown",
   "metadata": {},
   "source": [
    "### 4. Split into test and train datasets\n",
    "Data is divided into test and training sub-volumes for the purpose of fitting models and preventing over-fitting/bias issues. The current defaults in the module below are to split 80:20 train:test. No random number seeding, no shuffling of input data and no stratifying (equal proportions of success/fail  outcomes in each sub-volume). These features are adjusted at the bottom of the next cell as the input to function; user can change accordingly."
   ]
  },
  {
   "cell_type": "code",
   "execution_count": 133,
   "metadata": {},
   "outputs": [
    {
     "name": "stdout",
     "output_type": "stream",
     "text": [
      "(352, 43)\n",
      "Train and test dataset sizes\n",
      "Training dataset size : (264, 40)\n",
      "Test dataset size : (88, 40)\n"
     ]
    }
   ],
   "source": [
    "def training_split(Xdata, Ydata, test_size=0.2,stratify=None,random_state=None,shuffle=False):\n",
    "    '''\n",
    "    (DataframeXColumns)(DataframeYColumn)=>(array)(array)(array)(array)\n",
    "    For the purposes of splitting x and y data into test and training sets\n",
    "    train_test_split is currently set to default settings\n",
    "    PRECONDITION: Input datasets are formatted correctly\n",
    "    KJAGGS June2020\n",
    "    '''\n",
    "\n",
    "    #split the data - default settings for now\n",
    "    X_train, X_test, y_train, y_test = train_test_split(Xdata, Ydata, test_size=test_size,stratify=stratify, random_state = random_state, shuffle = shuffle)\n",
    "\n",
    "    #resize the output data sets if a 1 column vector, now compatible  with regression modules\n",
    "    if len(X_train.shape) <2:  \n",
    "       X_train = X_train.ravel()\n",
    "    if len(y_train.shape) <2:  \n",
    "       y_train = y_train.ravel()\n",
    "    if len(X_test.shape) <2:  \n",
    "       X_test = X_test.ravel()\n",
    "    if len(y_train.shape) <2:  \n",
    "       y_test = y_test.ravel()\n",
    "    \n",
    "    return X_train, X_test, y_train, y_test\n",
    "\n",
    "#print(df.columns.tolist())\n",
    "#output dataset is success/fail only\n",
    "print(df.shape)\n",
    "\n",
    "#remove result column from input dataset\n",
    "y = df[df.columns[-1]]\n",
    "\n",
    "#X = df.drop(df.columns[[-1]], axis=1)\n",
    "#X = df.drop(df.columns[[1,-1]], axis=1)\n",
    "X = df.drop(df.columns[[0,1,-1]], axis=1)\n",
    "\n",
    "\n",
    "\n",
    "#split the datasets\n",
    "#Shuffle = randomly shuffle the data before, If shuffle=False then stratify must be None.\n",
    "#random state = seeding of random numbers for reproducibility across various modules\n",
    "#stratify = ensure proportion of outcomes are the same across both datasets i.e % of successes in train = % of successes in test\n",
    "X_train, X_test, y_train, y_test = training_split(X,y,shuffle=True,random_state=random_seed,stratify=y,test_size=0.25)\n",
    "\n",
    "print(\"Train and test dataset sizes\")\n",
    "print(\"Training dataset size :\", X_train.shape)\n",
    "print(\"Test dataset size :\", X_test.shape)"
   ]
  },
  {
   "cell_type": "markdown",
   "metadata": {},
   "source": [
    "<a id='section_id_default_rfc'></a>"
   ]
  },
  {
   "cell_type": "markdown",
   "metadata": {},
   "source": [
    "### 5. Train default parameter Random Forest Classifer\n",
    "Using only the default parameters the SKlearn RFC is fitted to the input training dataset and performance is reviewed using a classification report and confusion matrix. Model outputs are saved for further comparison later.\n",
    "\n",
    "https://scikit-learn.org/stable/modules/generated/sklearn.ensemble.RandomForestClassifier.html?highlight=random%20forest%20classifier#sklearn.ensemble.RandomForestClassifier"
   ]
  },
  {
   "cell_type": "code",
   "execution_count": 134,
   "metadata": {
    "scrolled": true
   },
   "outputs": [
    {
     "name": "stdout",
     "output_type": "stream",
     "text": [
      "              precision    recall  f1-score   support\n",
      "\n",
      "           0       0.71      0.61      0.66        41\n",
      "           1       0.70      0.79      0.74        47\n",
      "\n",
      "    accuracy                           0.70        88\n",
      "   macro avg       0.71      0.70      0.70        88\n",
      "weighted avg       0.71      0.70      0.70        88\n",
      "\n",
      "Default model  AUC score:  0.7189932537623248\n"
     ]
    },
    {
     "data": {
      "image/png": "[encoded data removed]",
      "text/plain": [
       "<Figure size 432x288 with 2 Axes>"
      ]
     },
     "metadata": {
      "needs_background": "light"
     },
     "output_type": "display_data"
    }
   ],
   "source": [
    "#Create a default random forest Classifier\n",
    "clf_raw = RandomForestClassifier(random_state=random_seed)\n",
    "\n",
    "#Train the model using the training sets\n",
    "clf_raw.fit(X_train, y_train)\n",
    "\n",
    "#Predict the response for test dataset\n",
    "#_raw suffix is used to identify this model in the final model reviews\n",
    "y_pred_raw = clf_raw.predict(X_test)\n",
    "\n",
    "#y_score_raw = clf_raw.predict_proba(X_test_scaled)\n",
    "#retains positive values only\n",
    "y_score_raw = clf_raw.predict_proba(X_test)[:,1]\n",
    "\n",
    "#print(\"Accuracy =\", accuracy_score(y_test, y_pred_raw))\n",
    "#print(\"Precision =\", precision_score(y_test, y_pred_raw))\n",
    "#print('f1 = {:.2f}'.format(f1_score(y_test, y_pred_raw)))\n",
    "#print(\"AUC =\", roc_auc_score(y_test, y_pred_raw))\n",
    "\n",
    "# print classification report \n",
    "print(classification_report(y_test, y_pred_raw)) \n",
    "\n",
    "#confusion matrix plot\n",
    "disp = plot_confusion_matrix(clf_raw,X_test,y_test, display_labels=[\"Fail\",\"Success\"])\n",
    "#set confusion matrix plot\n",
    "disp.ax_.set_title('Confusion matrix - Test dataset RFC default parameters, scoring = ' + score_cat)\n",
    "\n",
    "#print(title)\n",
    "#print(disp.confusion_matrix)\n",
    "\n",
    "print(\"Default model  AUC score: \", roc_auc_score( y_test, y_score_raw))\n"
   ]
  },
  {
   "cell_type": "markdown",
   "metadata": {},
   "source": [
    "<a id='section_id_randomised_search'></a>"
   ]
  },
  {
   "cell_type": "markdown",
   "metadata": {},
   "source": [
    "### 6. Perform randomised search with cross validation.\n",
    "Randomly selecting from a large grid of hyperparameters, the RandomizedSearchCV provides a quick way to highlight value regions for detailed hyperparameter selection. The results from this tuning process will inform a more targeted parameter range selection later on during GridSearchCV.\n",
    "Default Cross Validation fold of 3 remains to keep run time down.\n",
    "\n",
    "https://scikit-learn.org/stable/modules/generated/sklearn.model_selection.RandomizedSearchCV.html"
   ]
  },
  {
   "cell_type": "code",
   "execution_count": 135,
   "metadata": {},
   "outputs": [
    {
     "name": "stdout",
     "output_type": "stream",
     "text": [
      "Fitting 3 folds for each of 100 candidates, totalling 300 fits\n"
     ]
    },
    {
     "name": "stderr",
     "output_type": "stream",
     "text": [
      "[Parallel(n_jobs=-1)]: Using backend LokyBackend with 4 concurrent workers.\n",
      "[Parallel(n_jobs=-1)]: Done  33 tasks      | elapsed:   27.9s\n",
      "[Parallel(n_jobs=-1)]: Done 154 tasks      | elapsed:  1.8min\n",
      "[Parallel(n_jobs=-1)]: Done 300 out of 300 | elapsed:  3.8min finished\n"
     ]
    },
    {
     "data": {
      "text/plain": [
       "RandomizedSearchCV(cv=3, error_score=nan,\n",
       "                   estimator=RandomForestClassifier(bootstrap=True,\n",
       "                                                    ccp_alpha=0.0,\n",
       "                                                    class_weight=None,\n",
       "                                                    criterion='gini',\n",
       "                                                    max_depth=None,\n",
       "                                                    max_features='auto',\n",
       "                                                    max_leaf_nodes=None,\n",
       "                                                    max_samples=None,\n",
       "                                                    min_impurity_decrease=0.0,\n",
       "                                                    min_impurity_split=None,\n",
       "                                                    min_samples_leaf=1,\n",
       "                                                    min_samples_split=2,\n",
       "                                                    min_weight_fraction_leaf=0.0,\n",
       "                                                    n_estimators=100,\n",
       "                                                    n_jobs...\n",
       "                                                      52, 54, 56, 58, 60, ...],\n",
       "                                        'max_features': ['auto', 'sqrt'],\n",
       "                                        'min_samples_leaf': [2, 4, 6, 8, 10, 12,\n",
       "                                                             14, 16, 18, 20],\n",
       "                                        'min_samples_split': [2, 4, 6, 8, 10,\n",
       "                                                              12, 14, 16, 18,\n",
       "                                                              20],\n",
       "                                        'n_estimators': [100, 200, 300, 400,\n",
       "                                                         500, 600, 700, 800,\n",
       "                                                         900, 1000, 1100, 1200,\n",
       "                                                         1300, 1400, 1500, 1600,\n",
       "                                                         1700, 1800, 1900,\n",
       "                                                         2000]},\n",
       "                   pre_dispatch='2*n_jobs', random_state=57, refit=True,\n",
       "                   return_train_score=False, scoring=None, verbose=2)"
      ]
     },
     "execution_count": 135,
     "metadata": {},
     "output_type": "execute_result"
    }
   ],
   "source": [
    "# Number of trees in random forest\n",
    "n_estimators = [int(x) for x in np.linspace(start = 100, stop = 2000, num = 20)]\n",
    "# Number of features to consider at every split\n",
    "max_features = ['auto', 'sqrt']\n",
    "# Maximum number of levels in tree\n",
    "max_depth = [int(x) for x in np.linspace(2, 80, num = 40)]\n",
    "max_depth.append(None)\n",
    "# Minimum number of samples required to split a node\n",
    "min_samples_split = [int(x) for x in np.linspace(2, 20, num = 10)]\n",
    "# Minimum number of samples required at each leaf node\n",
    "min_samples_leaf = [int(x) for x in np.linspace(2, 20, num = 10)]\n",
    "# Method of selecting samples for training each tree\n",
    "bootstrap = [True, False]\n",
    "\n",
    "# Create the random grid\n",
    "random_grid = {'n_estimators': n_estimators,\n",
    "               'max_features': max_features,\n",
    "               'max_depth': max_depth,\n",
    "               'min_samples_split': min_samples_split,\n",
    "               'min_samples_leaf': min_samples_leaf,\n",
    "               'bootstrap': bootstrap}\n",
    "\n",
    "# Use the random grid to search for best hyperparameters\n",
    "# First create the base model to tune\n",
    "rf = RandomForestClassifier()\n",
    "# Random search of parameters, using 3 fold cross validation.\n",
    "clf_rs = RandomizedSearchCV(estimator = rf, param_distributions = random_grid, n_iter = 100, cv = 3, verbose=2, random_state=random_seed, n_jobs = -1)\n",
    "# Fit the random search model\n",
    "clf_rs.fit(X_train, y_train)\n"
   ]
  },
  {
   "cell_type": "markdown",
   "metadata": {},
   "source": [
    "<a id='section_id_randomised_search_evaluation'></a>"
   ]
  },
  {
   "cell_type": "markdown",
   "metadata": {},
   "source": [
    "### 7. Review randomised search model\n",
    "Evaluate the Randomised search model performance using a classification report and confusion matrix."
   ]
  },
  {
   "cell_type": "code",
   "execution_count": 136,
   "metadata": {},
   "outputs": [
    {
     "name": "stdout",
     "output_type": "stream",
     "text": [
      "              precision    recall  f1-score   support\n",
      "\n",
      "           0       0.67      0.54      0.59        41\n",
      "           1       0.65      0.77      0.71        47\n",
      "\n",
      "    accuracy                           0.66        88\n",
      "   macro avg       0.66      0.65      0.65        88\n",
      "weighted avg       0.66      0.66      0.65        88\n",
      "\n",
      "Random search  AUC score:  0.7524649714582251\n"
     ]
    },
    {
     "data": {
      "image/png": "[encoded data removed]",
      "text/plain": [
       "<Figure size 432x288 with 2 Axes>"
      ]
     },
     "metadata": {
      "needs_background": "light"
     },
     "output_type": "display_data"
    }
   ],
   "source": [
    "#Predict the response for test dataset\n",
    "#_rs suffix is used to identify this model as rondomised search\n",
    "y_pred_rs = clf_rs.predict(X_test)\n",
    "\n",
    "#retains positive values only\n",
    "y_score_rs = clf_rs.predict_proba(X_test)[:,1]\n",
    "\n",
    "# print classification report \n",
    "print(classification_report(y_test, y_pred_rs)) \n",
    "\n",
    "#confusion matrix plot\n",
    "disp = plot_confusion_matrix(clf_rs,X_test,y_test, display_labels=[\"Fail\",\"Success\"])\n",
    "#set confusion matrix plot\n",
    "disp.ax_.set_title('Confusion matrix - rfc randomised search, scoring = ' + score_cat)\n",
    "\n",
    "print(\"Random search  AUC score: \", roc_auc_score( y_test, y_score_rs))"
   ]
  },
  {
   "cell_type": "markdown",
   "metadata": {},
   "source": [
    "<a id='section_id_gridsearchcv'></a>"
   ]
  },
  {
   "cell_type": "markdown",
   "metadata": {},
   "source": [
    "### 8. Perform GridsearchCV to fine tune hyperparameters.\n",
    "Using the RandomizedSearchCV output as a guide, identify the hyperparameter values to optimise model performance.\n",
    "\n",
    "https://scikit-learn.org/stable/modules/generated/sklearn.model_selection.GridSearchCV.html"
   ]
  },
  {
   "cell_type": "code",
   "execution_count": 137,
   "metadata": {},
   "outputs": [
    {
     "name": "stdout",
     "output_type": "stream",
     "text": [
      "RandomizedSearch best parameters:\n",
      "{'n_estimators': 400, 'min_samples_split': 16, 'min_samples_leaf': 2, 'max_features': 'auto', 'max_depth': 28, 'bootstrap': False}\n",
      "RandomizedSearch hyperparaneter grid:\n",
      "{'n_estimators': [100, 200, 300, 400, 500, 600, 700, 800, 900, 1000, 1100, 1200, 1300, 1400, 1500, 1600, 1700, 1800, 1900, 2000], 'max_features': ['auto', 'sqrt'], 'max_depth': [2, 4, 6, 8, 10, 12, 14, 16, 18, 20, 22, 24, 26, 28, 30, 32, 34, 36, 38, 40, 42, 44, 46, 48, 50, 52, 54, 56, 58, 60, 62, 64, 66, 68, 70, 72, 74, 76, 78, 80, None], 'min_samples_split': [2, 4, 6, 8, 10, 12, 14, 16, 18, 20], 'min_samples_leaf': [2, 4, 6, 8, 10, 12, 14, 16, 18, 20], 'bootstrap': [True, False]}\n"
     ]
    }
   ],
   "source": [
    "print(\"RandomizedSearch best parameters:\")\n",
    "print(clf_rs.best_params_)\n",
    "\n",
    "print(\"RandomizedSearch hyperparaneter grid:\")\n",
    "print(random_grid)"
   ]
  },
  {
   "cell_type": "code",
   "execution_count": 146,
   "metadata": {},
   "outputs": [
    {
     "name": "stdout",
     "output_type": "stream",
     "text": [
      "Fitting 5 folds for each of 54 candidates, totalling 270 fits\n"
     ]
    },
    {
     "name": "stderr",
     "output_type": "stream",
     "text": [
      "[Parallel(n_jobs=-1)]: Using backend LokyBackend with 4 concurrent workers.\n",
      "[Parallel(n_jobs=-1)]: Done  33 tasks      | elapsed:   48.0s\n",
      "[Parallel(n_jobs=-1)]: Done 154 tasks      | elapsed:  3.5min\n",
      "[Parallel(n_jobs=-1)]: Done 270 out of 270 | elapsed:  5.5min finished\n"
     ]
    },
    {
     "data": {
      "text/plain": [
       "GridSearchCV(cv=5, error_score=nan,\n",
       "             estimator=RandomForestClassifier(bootstrap=True, ccp_alpha=0.0,\n",
       "                                              class_weight=None,\n",
       "                                              criterion='gini', max_depth=None,\n",
       "                                              max_features='auto',\n",
       "                                              max_leaf_nodes=None,\n",
       "                                              max_samples=None,\n",
       "                                              min_impurity_decrease=0.0,\n",
       "                                              min_impurity_split=None,\n",
       "                                              min_samples_leaf=1,\n",
       "                                              min_samples_split=2,\n",
       "                                              min_weight_fraction_leaf=0.0,\n",
       "                                              n_estimators=100, n_jobs=None,\n",
       "                                              oob_score=False, random_state=57,\n",
       "                                              verbose=0, warm_start=False),\n",
       "             iid='deprecated', n_jobs=-1,\n",
       "             param_grid={'bootstrap': [True, False], 'max_depth': [None],\n",
       "                         'max_features': ['sqrt'],\n",
       "                         'min_samples_leaf': [9, 10, 11],\n",
       "                         'min_samples_split': [5, 6, 7],\n",
       "                         'n_estimators': [1650, 1700, 1750]},\n",
       "             pre_dispatch='2*n_jobs', refit=True, return_train_score=False,\n",
       "             scoring=None, verbose=2)"
      ]
     },
     "execution_count": 146,
     "metadata": {},
     "output_type": "execute_result"
    }
   ],
   "source": [
    "from sklearn.model_selection import GridSearchCV\n",
    "\n",
    "# Create the parameter grid based on the results of random search \n",
    "param_grid = {\n",
    "    'bootstrap': [True, False],\n",
    "    'n_estimators': [1650,1700,1750],\n",
    "    'max_depth': [None],\n",
    "    'max_features': ['sqrt'],\n",
    "    'min_samples_leaf': [9, 10,11],\n",
    "    'min_samples_split': [5,6,7],\n",
    "}\n",
    "# Create a based model\n",
    "rf_cv = RandomForestClassifier(random_state= random_seed)\n",
    "# Instantiate the grid search model\n",
    "clf_cv = GridSearchCV(estimator = rf_cv, param_grid = param_grid, \n",
    "                          cv = cross_validation_fold, n_jobs = -1, verbose = 2)\n",
    "\n",
    "clf_cv.fit(X_train, y_train)\n",
    "\n"
   ]
  },
  {
   "cell_type": "markdown",
   "metadata": {},
   "source": [
    "<a id='section_id_gridsearchcv_evaluation'></a>"
   ]
  },
  {
   "cell_type": "markdown",
   "metadata": {},
   "source": [
    "###  9. GridsearchCV model evaluation.\n",
    "Evaluate the final GridsearchCV hyperparameter selection model using a classification report and confusion matrix."
   ]
  },
  {
   "cell_type": "code",
   "execution_count": 147,
   "metadata": {},
   "outputs": [
    {
     "name": "stdout",
     "output_type": "stream",
     "text": [
      "Gridsearchcv best parameters:\n",
      "{'bootstrap': False, 'max_depth': None, 'max_features': 'sqrt', 'min_samples_leaf': 9, 'min_samples_split': 5, 'n_estimators': 1750}\n",
      "              precision    recall  f1-score   support\n",
      "\n",
      "           0       0.69      0.61      0.65        41\n",
      "           1       0.69      0.77      0.73        47\n",
      "\n",
      "    accuracy                           0.69        88\n",
      "   macro avg       0.69      0.69      0.69        88\n",
      "weighted avg       0.69      0.69      0.69        88\n",
      "\n",
      "GridsearchCV  AUC score:  0.7623248572911262\n"
     ]
    },
    {
     "data": {
      "image/png": "[encoded data removed]",
      "text/plain": [
       "<Figure size 432x288 with 2 Axes>"
      ]
     },
     "metadata": {
      "needs_background": "light"
     },
     "output_type": "display_data"
    }
   ],
   "source": [
    "print(\"Gridsearchcv best parameters:\")\n",
    "print(clf_cv.best_params_)\n",
    "\n",
    "#Predict the response for test dataset\n",
    "#_rs suffix is used to identify this model as rondomised search\n",
    "y_pred_cv = clf_cv.predict(X_test)\n",
    "\n",
    "#retains positive values only\n",
    "y_score_cv = clf_cv.predict_proba(X_test)[:,1]\n",
    "\n",
    "# print classification report \n",
    "print(classification_report(y_test, y_pred_cv)) \n",
    "\n",
    "#confusion matrix plot\n",
    "disp = plot_confusion_matrix(clf_cv,X_test,y_test, display_labels=[\"Fail\",\"Success\"])\n",
    "#set confusion matrix plot\n",
    "disp.ax_.set_title('Confusion matrix - GridsearchCV, scoring = ' + score_cat)\n",
    "\n",
    "print(\"GridsearchCV  AUC score: \", roc_auc_score( y_test, y_score_cv))\n"
   ]
  },
  {
   "cell_type": "markdown",
   "metadata": {},
   "source": [
    "<a id='section_id_feature_selection'></a>"
   ]
  },
  {
   "cell_type": "markdown",
   "metadata": {},
   "source": [
    "###  10. Feature selection using SKlearn SelectFromModel.\n",
    "Determine the most important features using the SelectFromModel module. \n",
    "Features that score above a predetermined threshold score are identified."
   ]
  },
  {
   "cell_type": "code",
   "execution_count": 148,
   "metadata": {},
   "outputs": [
    {
     "data": {
      "text/plain": [
       "RandomForestClassifier(bootstrap=False, ccp_alpha=0.0, class_weight=None,\n",
       "                       criterion='gini', max_depth=None, max_features='sqrt',\n",
       "                       max_leaf_nodes=None, max_samples=None,\n",
       "                       min_impurity_decrease=0.0, min_impurity_split=None,\n",
       "                       min_samples_leaf=9, min_samples_split=5,\n",
       "                       min_weight_fraction_leaf=0.0, n_estimators=1750,\n",
       "                       n_jobs=None, oob_score=False, random_state=57, verbose=0,\n",
       "                       warm_start=False)"
      ]
     },
     "execution_count": 148,
     "metadata": {},
     "output_type": "execute_result"
    }
   ],
   "source": [
    "#fit a new RFC using the best gridsearch parameters\n",
    "clf_sfm = RandomForestClassifier(**clf_cv.best_params_,random_state=random_seed)\n",
    "\n",
    "# determine the threshold that features must exceed to be determined important\n",
    "sfm = SelectFromModel(clf_sfm, threshold=0.02)\n",
    "\n",
    "# Train the selector\n",
    "sfm.fit(X_train, y_train)\n",
    "\n",
    "#reduce the train and test sets to the selected features only\n",
    "X_important_train = sfm.transform(X_train)\n",
    "X_important_test = sfm.transform(X_test)\n",
    "\n",
    "#fit a new RFC using the best gridsearch parameters\n",
    "clf_fs = RandomForestClassifier(**clf_cv.best_params_,random_state= random_seed)\n",
    "\n",
    "#fit the model using the training sets, new model required to \n",
    "clf_fs.fit(X_important_train, y_train)"
   ]
  },
  {
   "cell_type": "markdown",
   "metadata": {},
   "source": [
    "<a id='section_id_print_features'></a>"
   ]
  },
  {
   "cell_type": "markdown",
   "metadata": {},
   "source": [
    "###  11. Print the best features.\n",
    "Selected features are ordered in descending score. High number = high importance."
   ]
  },
  {
   "cell_type": "code",
   "execution_count": 149,
   "metadata": {},
   "outputs": [
    {
     "name": "stdout",
     "output_type": "stream",
     "text": [
      "Feature: HC caused IG anomaly?, Score: 0.22931\n",
      "Feature: Flat Spot, Score: 0.16135\n",
      "Feature: Consistency within mapped target area, Score: 0.13382\n",
      "Feature: Downdip conformance, Score: 0.08604\n",
      "Feature: Amplitude and frequency shadow, Score: 0.07458\n",
      "Feature: Excluding possible stacked pays, is the AVO , Score: 0.04797\n",
      "Feature: Anomalies outside closure, Score: 0.04710\n",
      "Feature: Soft Lithology, Score: 0.04308\n",
      "Feature: Change in AVO compared to model, Score: 0.04265\n",
      "Feature: Tuning Effects, Score: 0.04066\n",
      "Feature: Lateral conformance, Score: 0.04043\n",
      "Feature: Late trap preservation, Score: 0.02785\n",
      "Feature: Amplitude change, Score: 0.02514\n"
     ]
    }
   ],
   "source": [
    "#print(clf_fs.estimators_)\n",
    "\n",
    "fs_labels = []\n",
    "\n",
    "# Print the names of the most important features\n",
    "for feature_list_index in sfm.get_support(indices=True):\n",
    "    #print(feature_labels[feature_list_index])\n",
    "    fs_labels.append(feature_labels[feature_list_index])\n",
    "\n",
    "# get importance\n",
    "importance = clf_fs.feature_importances_.tolist()    \n",
    " \n",
    "res = sorted(zip(fs_labels, importance), key = lambda x: x[1], reverse=True)     \n",
    "    \n",
    "for i,v in enumerate(res):    \n",
    "    print('Feature: %0s, Score: %.5f' % (v[0],v[1]))\n",
    "    #print(v)\n",
    "    "
   ]
  },
  {
   "cell_type": "markdown",
   "metadata": {},
   "source": [
    "<a id='section_id_features_evaluation'></a>"
   ]
  },
  {
   "cell_type": "markdown",
   "metadata": {},
   "source": [
    "### 12. Evaluate feature selection model.\n",
    "Evaluate the feature selection model performance using a classification report and confusion matrix."
   ]
  },
  {
   "cell_type": "code",
   "execution_count": 150,
   "metadata": {},
   "outputs": [
    {
     "name": "stdout",
     "output_type": "stream",
     "text": [
      "              precision    recall  f1-score   support\n",
      "\n",
      "           0       0.69      0.61      0.65        41\n",
      "           1       0.69      0.77      0.73        47\n",
      "\n",
      "    accuracy                           0.69        88\n",
      "   macro avg       0.69      0.69      0.69        88\n",
      "weighted avg       0.69      0.69      0.69        88\n",
      "\n",
      "SFM feature selection AUC score:  0.7415672029060716\n"
     ]
    },
    {
     "data": {
      "image/png": "[encoded data removed]",
      "text/plain": [
       "<Figure size 432x288 with 2 Axes>"
      ]
     },
     "metadata": {
      "needs_background": "light"
     },
     "output_type": "display_data"
    }
   ],
   "source": [
    "#Predict the response for test dataset\n",
    "#_rs suffix is used to identify this model as rondomised search\n",
    "y_pred_fs = clf_fs.predict(X_important_test)\n",
    "\n",
    "#retains positive values only\n",
    "y_score_fs = clf_fs.predict_proba(X_important_test)[:,1]\n",
    "\n",
    "# print classification report \n",
    "print(classification_report(y_test, y_pred_fs)) \n",
    "\n",
    "#confusion matrix plot\n",
    "disp = plot_confusion_matrix(clf_fs,X_important_test,y_test, display_labels=[\"Fail\",\"Success\"])\n",
    "#set confusion matrix plot\n",
    "disp.ax_.set_title('Confusion matrix - sfm feature selection, scoring = ' + score_cat)\n",
    "\n",
    "print(\"SFM feature selection AUC score: \", roc_auc_score( y_test, y_score_fs))"
   ]
  },
  {
   "cell_type": "markdown",
   "metadata": {},
   "source": [
    "<a id='section_id_roc'></a>"
   ]
  },
  {
   "cell_type": "markdown",
   "metadata": {},
   "source": [
    "### 13. ROC Plot\n",
    "Comparison of the ROC curves for raw, GridsearchCV and feature selection result models. Labels show the AUC score."
   ]
  },
  {
   "cell_type": "code",
   "execution_count": 151,
   "metadata": {},
   "outputs": [
    {
     "data": {
      "image/png": "[encoded data removed]",
      "text/plain": [
       "<Figure size 720x720 with 1 Axes>"
      ]
     },
     "metadata": {
      "needs_background": "light"
     },
     "output_type": "display_data"
    }
   ],
   "source": [
    "#ROC AUC Curve Generation for final optimised model\n",
    "false_positive_raw, true_positive_raw, threshold_raw = roc_curve(y_test, y_score_raw)\n",
    "\n",
    "#ROC AUC Curve Generation for final optimised model\n",
    "false_positive_gridcv, true_positive_gridcv, threshold_tuned_feature = roc_curve(y_test, y_score_cv)\n",
    "\n",
    "#ROC AUC Curve Generation for faeture selection model\n",
    "false_positive_fs, true_positive_fs, threshold_fs = roc_curve(y_test, y_score_fs)\n",
    "\n",
    "#ROC AUC Curve Generation for final optimised model\n",
    "#false_positive_chi2, true_positive_chi2, threshold_chi2 = roc_curve(y_test, y_score_chi2)\n",
    "\n",
    "raw_auc_label = \"raw, AUC = {:.2f}\".format(roc_auc_score(y_test, y_score_raw))\n",
    "gridcv_auc_label = \"gridCV, AUC = {:.2f}\".format(roc_auc_score(y_test, y_score_cv))\n",
    "fs_auc_label = \"feature sel, AUC = {:.2f}\".format(roc_auc_score(y_test, y_score_fs))\n",
    "#chi2_auc_label = \"chi2, AUC = {:.2f}\".format(roc_auc_score(y_test, y_score_chi2))\n",
    "\n",
    "#Plot ROC Curve\n",
    "plt.subplots(1, figsize=(10,10))\n",
    "plt.title('Receiver Operating Characteristic - Linear SVM: Scoring = ' + score_cat)\n",
    "plt.plot(false_positive_raw, true_positive_raw, label=raw_auc_label)\n",
    "plt.plot(false_positive_gridcv, true_positive_gridcv, label=gridcv_auc_label)\n",
    "plt.plot(false_positive_fs, true_positive_fs,label=fs_auc_label)\n",
    "#plt.plot(false_positive_chi2, true_positive_chi2,label=chi2_auc_label)\n",
    "plt.plot([0, 1], ls=\"--\", label='Baseline')\n",
    "plt.plot([0, 0], [1, 0] , c=\".2\"), plt.plot([1, 1] , c=\".2\",label=\"Perfect classifier\")\n",
    "plt.ylabel('True Positive Rate')\n",
    "plt.xlabel('False Positive Rate')\n",
    "plt.legend(loc=\"lower right\")\n",
    "plt.show()\n",
    "\n",
    "#print('roc_auc_score for Linear SVM: ', roc_auc_score(y_test, y_score_tuned_feature))"
   ]
  },
  {
   "cell_type": "markdown",
   "metadata": {},
   "source": [
    "<a id='section_id_pr'></a>"
   ]
  },
  {
   "cell_type": "markdown",
   "metadata": {},
   "source": [
    "### 14. Precision vs Recall Plot\n",
    "Comparison of the PR curves for raw, GridsearchCV and feature selection result models. Labels show the AUPR score.\n"
   ]
  },
  {
   "cell_type": "code",
   "execution_count": 152,
   "metadata": {},
   "outputs": [
    {
     "data": {
      "image/png": "[encoded data removed]",
      "text/plain": [
       "<Figure size 720x720 with 1 Axes>"
      ]
     },
     "metadata": {
      "needs_background": "light"
     },
     "output_type": "display_data"
    }
   ],
   "source": [
    "from sklearn.metrics import plot_precision_recall_curve\n",
    "from sklearn.metrics import precision_recall_curve\n",
    "from sklearn.metrics import average_precision_score\n",
    "\n",
    "\n",
    "#AUPR Curve Generation for raw model\n",
    "prec_raw, recall_raw, threshold_pr_raw = precision_recall_curve(y_test, y_score_raw)\n",
    "\n",
    "#AUPR Curve Generation for gridsearch cv model\n",
    "prec_gridcv, recall_gridcv, threshold_pr_tuned_feature = precision_recall_curve(y_test, y_score_cv)\n",
    "\n",
    "#AUPR Curve Generation for final optimised model\n",
    "prec_fs, recall_fs, threshold_pr_fs = precision_recall_curve(y_test, y_score_fs)\n",
    "\n",
    "#AUPR Curve Generation for final optimised model\n",
    "#prec_chi2, recall_chi2, threshold_pr_chi2 = precision_recall_curve(y_test, y_score_chi2)\n",
    "\n",
    "raw_pr_label = \"raw, AUPR = {:.2f}\".format(average_precision_score(y_test, y_score_raw))\n",
    "gridcv_pr_label = \"gridCV, AUPR = {:.2f}\".format(average_precision_score(y_test, y_score_cv))\n",
    "fs_pr_label = \"feature sel, AUPR = {:.2f}\".format(average_precision_score(y_test, y_score_fs))\n",
    "#chi2_pr_label = \"rfe, Chi2 = {:.2f}\".format(average_precision_score(y_test, y_score_chi2))\n",
    "\n",
    "baseline = len(y_test[y_test==1]) / len(y_test)\n",
    "# plot the no skill precision-recall curve\n",
    "\n",
    "\n",
    "#Plot Precision Recall Curve\n",
    "plt.subplots(1, figsize=(10,10))\n",
    "plt.title('Precision Recall Curve - Linear SVM: Scoring = ' + score_cat)\n",
    "plt.plot( recall_raw,prec_raw, label=raw_pr_label)\n",
    "plt.plot( recall_gridcv,prec_gridcv, label=gridcv_pr_label)\n",
    "plt.plot( recall_fs,prec_fs,label=fs_pr_label)\n",
    "#plt.plot( recall_chi2,prec_chi2,label=chi2_pr_label)\n",
    "plt.plot([0, 1], [baseline, baseline], linestyle='--', label='Baseline')\n",
    "plt.plot([0, 1], [1, 1] , c=\".2\"), plt.plot([1, 1] , [1, 0], c=\".2\",label=\"perfect classifier\")\n",
    "plt.ylabel('Precision')\n",
    "plt.xlabel('Recall')\n",
    "plt.legend(loc=\"lower right\")\n",
    "plt.show()"
   ]
  },
  {
   "cell_type": "markdown",
   "metadata": {},
   "source": [
    "<a id='section_id_model_summary'></a>"
   ]
  },
  {
   "cell_type": "markdown",
   "metadata": {},
   "source": [
    "### 15. Compare model performances.\n",
    "Compare the outputs from all stages of the model evaluation: raw, RandomizedSearch, GridsearchCV and feature selection."
   ]
  },
  {
   "cell_type": "code",
   "execution_count": 153,
   "metadata": {},
   "outputs": [
    {
     "name": "stdout",
     "output_type": "stream",
     "text": [
      "\n",
      "Random Forest Classifier: Default parameters\n",
      "\n",
      "Accuracy score on test set: 0.70\n",
      "Precision score on test set: 0.70\n",
      "Recall score on test set: 0.79\n",
      "Micro f1  score on test set: 0.70\n",
      "Macro f1  score on test set: 0.70\n",
      "Weighted f1  score on test set: 0.70\n",
      "AUC  on test set: 0.72\n",
      "\n",
      "\n",
      "Random Forest Classifier:  RanomizedSearch\n",
      "\n",
      "Accuracy score on test set: 0.66\n",
      "Precision score on test set: 0.65\n",
      "Recall score on test set: 0.77\n",
      "Micro f1  score on test set: 0.66\n",
      "Macro f1  score on test set: 0.65\n",
      "Weighted f1  score on test set: 0.65\n",
      "AUC  on test set: 0.75\n",
      "\n",
      "\n",
      "Random Forest Classifier:  GridsearchCV\n",
      "\n",
      "Accuracy score on test set: 0.69\n",
      "Precision score on test set: 0.69\n",
      "Recall score on test set: 0.77\n",
      "Micro f1  score on test set: 0.69\n",
      "Macro f1  score on test set: 0.69\n",
      "Weighted f1  score on test set: 0.69\n",
      "AUC  on test set: 0.76\n",
      "\n",
      "\n",
      "Random Forest Classifier:  Feature Selection\n",
      "\n",
      "Accuracy score on test set: 0.69\n",
      "Precision score on test set: 0.69\n",
      "Recall score on test set: 0.77\n",
      "Micro f1  score on test set: 0.69\n",
      "Macro f1  score on test set: 0.69\n",
      "Weighted f1  score on test set: 0.69\n",
      "AUC  on test set: 0.74\n",
      "\n",
      "\n"
     ]
    }
   ],
   "source": [
    "def summary_scores(y_test_summary, y_pred_summary, y_score_summary):\n",
    "    \n",
    "    print('Accuracy score on test set: {:.2f}'.format(accuracy_score(y_test_summary, y_pred_summary)))\n",
    "    print('Precision score on test set: {:.2f}'.format(precision_score(y_test_summary, y_pred_summary)))\n",
    "    print('Recall score on test set: {:.2f}'.format(recall_score(y_test_summary, y_pred_summary)))\n",
    "    print('Micro f1  score on test set: {:.2f}'.format(f1_score(y_test_summary, y_pred_summary, average='micro')))\n",
    "    print('Macro f1  score on test set: {:.2f}'.format(f1_score(y_test_summary, y_pred_summary, average='macro')))\n",
    "    print('Weighted f1  score on test set: {:.2f}'.format(f1_score(y_test_summary, y_pred_summary, average='weighted')))\n",
    "    print(\"AUC  on test set: {:.2f}\".format(roc_auc_score(y_test_summary, y_score_summary)))\n",
    "    print(\"\\n\")\n",
    "\n",
    "print(\"\\nRandom Forest Classifier: Default parameters\\n\")    \n",
    "summary_scores(y_test, y_pred_raw, y_score_raw)\n",
    "\n",
    "print(\"Random Forest Classifier:  RanomizedSearch\\n\")\n",
    "summary_scores(y_test, y_pred_rs, y_score_rs)\n",
    "\n",
    "print(\"Random Forest Classifier:  GridsearchCV\\n\")\n",
    "summary_scores(y_test, y_pred_cv, y_score_cv)\n",
    "\n",
    "\n",
    "print(\"Random Forest Classifier:  Feature Selection\\n\")\n",
    "summary_scores(y_test, y_pred_fs, y_score_fs)"
   ]
  },
  {
   "cell_type": "code",
   "execution_count": null,
   "metadata": {},
   "outputs": [],
   "source": []
  }
 ],
 "metadata": {
  "kernelspec": {
   "display_name": "Python 3",
   "language": "python",
   "name": "python3"
  },
  "language_info": {
   "codemirror_mode": {
    "name": "ipython",
    "version": 3
   },
   "file_extension": ".py",
   "mimetype": "text/x-python",
   "name": "python",
   "nbconvert_exporter": "python",
   "pygments_lexer": "ipython3",
   "version": "3.7.6"
  }
 },
 "nbformat": 4,
 "nbformat_minor": 4
}
